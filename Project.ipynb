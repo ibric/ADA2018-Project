{
 "cells": [
  {
   "cell_type": "code",
   "execution_count": 1,
   "metadata": {},
   "outputs": [],
   "source": [
    "import pandas as pd\n",
    "import numpy as np\n",
    "import scipy as sp\n",
    "import os"
   ]
  },
  {
   "cell_type": "code",
   "execution_count": 2,
   "metadata": {},
   "outputs": [],
   "source": [
    "data_folder = './data/'"
   ]
  },
  {
   "cell_type": "code",
   "execution_count": 3,
   "metadata": {},
   "outputs": [],
   "source": [
    "police_departments = []\n",
    "for filename in os.listdir(data_folder):\n",
    "    if \".\" in filename:\n",
    "        variable_descriptions = pd.read_csv(data_folder + filename)\n",
    "    else:\n",
    "        police_departments.append(data_folder + filename + '/')\n",
    "       "
   ]
  },
  {
   "cell_type": "code",
   "execution_count": 4,
   "metadata": {},
   "outputs": [
    {
     "data": {
      "text/plain": [
       "['./data/Dept_11-00091/',\n",
       " './data/Dept_23-00089/',\n",
       " './data/Dept_24-00013/',\n",
       " './data/Dept_24-00098/',\n",
       " './data/Dept_35-00016/',\n",
       " './data/Dept_35-00103/',\n",
       " './data/Dept_37-00027/',\n",
       " './data/Dept_37-00049/',\n",
       " './data/Dept_49-00009/',\n",
       " './data/Dept_49-00033/',\n",
       " './data/Dept_49-00035/',\n",
       " './data/Dept_49-00081/']"
      ]
     },
     "execution_count": 4,
     "metadata": {},
     "output_type": "execute_result"
    }
   ],
   "source": [
    "police_departments"
   ]
  },
  {
   "cell_type": "raw",
   "metadata": {},
   "source": [
    "variable_descriptions"
   ]
  },
  {
   "cell_type": "code",
   "execution_count": 5,
   "metadata": {},
   "outputs": [
    {
     "data": {
      "text/html": [
       "<div>\n",
       "<style scoped>\n",
       "    .dataframe tbody tr th:only-of-type {\n",
       "        vertical-align: middle;\n",
       "    }\n",
       "\n",
       "    .dataframe tbody tr th {\n",
       "        vertical-align: top;\n",
       "    }\n",
       "\n",
       "    .dataframe thead th {\n",
       "        text-align: right;\n",
       "    }\n",
       "</style>\n",
       "<table border=\"1\" class=\"dataframe\">\n",
       "  <thead>\n",
       "    <tr style=\"text-align: right;\">\n",
       "      <th></th>\n",
       "      <th>GEO.id</th>\n",
       "      <th>Id</th>\n",
       "    </tr>\n",
       "  </thead>\n",
       "  <tbody>\n",
       "    <tr>\n",
       "      <th>0</th>\n",
       "      <td>GEO.id2</td>\n",
       "      <td>Id2</td>\n",
       "    </tr>\n",
       "    <tr>\n",
       "      <th>1</th>\n",
       "      <td>GEO.display-label</td>\n",
       "      <td>Geography</td>\n",
       "    </tr>\n",
       "    <tr>\n",
       "      <th>2</th>\n",
       "      <td>HC01_VC03</td>\n",
       "      <td>Estimate; SEX AND AGE - Total population</td>\n",
       "    </tr>\n",
       "    <tr>\n",
       "      <th>3</th>\n",
       "      <td>HC02_VC03</td>\n",
       "      <td>Margin of Error; SEX AND AGE - Total population</td>\n",
       "    </tr>\n",
       "    <tr>\n",
       "      <th>4</th>\n",
       "      <td>HC03_VC03</td>\n",
       "      <td>Percent; SEX AND AGE - Total population</td>\n",
       "    </tr>\n",
       "  </tbody>\n",
       "</table>\n",
       "</div>"
      ],
      "text/plain": [
       "              GEO.id                                               Id\n",
       "0            GEO.id2                                              Id2\n",
       "1  GEO.display-label                                        Geography\n",
       "2          HC01_VC03         Estimate; SEX AND AGE - Total population\n",
       "3          HC02_VC03  Margin of Error; SEX AND AGE - Total population\n",
       "4          HC03_VC03          Percent; SEX AND AGE - Total population"
      ]
     },
     "execution_count": 5,
     "metadata": {},
     "output_type": "execute_result"
    }
   ],
   "source": [
    "variable_descriptions.head()\n"
   ]
  },
  {
   "cell_type": "code",
   "execution_count": 6,
   "metadata": {},
   "outputs": [],
   "source": [
    "f = []\n",
    "f_dot = []\n",
    "for i in range(len(police_departments)):\n",
    "    for filename in os.listdir(police_departments[i]):\n",
    "        if \".\" not in filename:\n",
    "            f.append(police_departments[i] + filename + '/')\n",
    "        else:\n",
    "            f_dot.append(filename)\n",
    "\n"
   ]
  },
  {
   "cell_type": "code",
   "execution_count": 7,
   "metadata": {},
   "outputs": [
    {
     "data": {
      "text/plain": [
       "['./data/Dept_11-00091/11-00091_ACS_data/',\n",
       " './data/Dept_11-00091/11-00091_Shapefiles/',\n",
       " './data/Dept_23-00089/23-00089_ACS_data/',\n",
       " './data/Dept_23-00089/23-00089_Shapefiles/',\n",
       " './data/Dept_24-00013/24-00013_ACS_data/',\n",
       " './data/Dept_24-00013/24-00013_Shapefiles/',\n",
       " './data/Dept_24-00098/24-00098_ACS_data/',\n",
       " './data/Dept_24-00098/24-00098_Shapefiles/',\n",
       " './data/Dept_35-00016/35-00016_ACS_data/',\n",
       " './data/Dept_35-00016/35-00016_Shapefiles/',\n",
       " './data/Dept_35-00103/35-00103_ACS_data/',\n",
       " './data/Dept_35-00103/35-00103_Shapefiles/',\n",
       " './data/Dept_37-00027/37-00027_ACS_data/',\n",
       " './data/Dept_37-00027/37-00027_Shapefiles/',\n",
       " './data/Dept_37-00049/37-00049_ACS_data/',\n",
       " './data/Dept_37-00049/37-00049_Shapefiles/',\n",
       " './data/Dept_49-00009/49-00009_ACS_data/',\n",
       " './data/Dept_49-00009/49-00009_Shapefiles/',\n",
       " './data/Dept_49-00033/49-00033_ACS_data/',\n",
       " './data/Dept_49-00033/49-00033_Shapefiles/',\n",
       " './data/Dept_49-00035/49-00035_ACS_data/',\n",
       " './data/Dept_49-00035/49-00035_Shapefiles/',\n",
       " './data/Dept_49-00081/49-00081_ACS_data/',\n",
       " './data/Dept_49-00081/49-00081_Shapefiles/']"
      ]
     },
     "execution_count": 7,
     "metadata": {},
     "output_type": "execute_result"
    }
   ],
   "source": [
    "f"
   ]
  },
  {
   "cell_type": "code",
   "execution_count": 8,
   "metadata": {},
   "outputs": [
    {
     "data": {
      "text/plain": [
       "['11-00091_Field-Interviews_2011-2015.csv',\n",
       " '23-00089_UOF-P.csv',\n",
       " '24-00013_UOF_2008-2017_prepped.csv',\n",
       " '24-00098_Vehicle-Stops-data.csv',\n",
       " '35-00016_UOF-OIS-P.csv',\n",
       " '35-00103_UOF-OIS-P_prepped.csv',\n",
       " '37-00027_UOF-P_2014-2016_prepped.csv',\n",
       " '37-00049_UOF-P_2016_prepped.csv',\n",
       " '49-00009_UOF.csv',\n",
       " '49-0009_UOF.csv',\n",
       " '49-00033_Arrests_2015.csv',\n",
       " '49-00035_Incidents_2016.csv',\n",
       " '49-00081_Incident-Reports_2012_to_May_2015.csv']"
      ]
     },
     "execution_count": 8,
     "metadata": {},
     "output_type": "execute_result"
    }
   ],
   "source": [
    "f_dot\n",
    "#Here we collect all files about incident reports. Each police department has it's own report and same report ocurrs in 49-00009,\n",
    "#so we delete it."
   ]
  },
  {
   "cell_type": "code",
   "execution_count": 23,
   "metadata": {},
   "outputs": [],
   "source": [
    "#In f_dot we have all .csv files\n",
    "len(f_dot)\n",
    "A = pd.read_csv(police_departments[8]+f_dot[8])"
   ]
  },
  {
   "cell_type": "code",
   "execution_count": 31,
   "metadata": {},
   "outputs": [],
   "source": [
    "f_dot.remove('49-0009_UOF.csv')\n"
   ]
  },
  {
   "cell_type": "code",
   "execution_count": 34,
   "metadata": {},
   "outputs": [
    {
     "data": {
      "text/plain": [
       "['11-00091_Field-Interviews_2011-2015.csv',\n",
       " '23-00089_UOF-P.csv',\n",
       " '24-00013_UOF_2008-2017_prepped.csv',\n",
       " '24-00098_Vehicle-Stops-data.csv',\n",
       " '35-00016_UOF-OIS-P.csv',\n",
       " '35-00103_UOF-OIS-P_prepped.csv',\n",
       " '37-00027_UOF-P_2014-2016_prepped.csv',\n",
       " '37-00049_UOF-P_2016_prepped.csv',\n",
       " '49-00009_UOF.csv',\n",
       " '49-00033_Arrests_2015.csv',\n",
       " '49-00035_Incidents_2016.csv',\n",
       " '49-00081_Incident-Reports_2012_to_May_2015.csv']"
      ]
     },
     "execution_count": 34,
     "metadata": {},
     "output_type": "execute_result"
    }
   ],
   "source": [
    "f_dot\n",
    "#Cleaned f_dot"
   ]
  },
  {
   "cell_type": "code",
   "execution_count": 36,
   "metadata": {},
   "outputs": [
    {
     "name": "stderr",
     "output_type": "stream",
     "text": [
      "C:\\Users\\PC\\Anaconda3\\lib\\site-packages\\IPython\\core\\interactiveshell.py:2785: DtypeWarning: Columns (0,1,5,20,25,26,27,31,32) have mixed types. Specify dtype option on import or set low_memory=False.\n",
      "  interactivity=interactivity, compiler=compiler, result=result)\n",
      "C:\\Users\\PC\\Anaconda3\\lib\\site-packages\\IPython\\core\\interactiveshell.py:2785: DtypeWarning: Columns (0,7,9,10,11) have mixed types. Specify dtype option on import or set low_memory=False.\n",
      "  interactivity=interactivity, compiler=compiler, result=result)\n",
      "C:\\Users\\PC\\Anaconda3\\lib\\site-packages\\IPython\\core\\interactiveshell.py:2785: DtypeWarning: Columns (1,2,3,5,6,9,16,17) have mixed types. Specify dtype option on import or set low_memory=False.\n",
      "  interactivity=interactivity, compiler=compiler, result=result)\n",
      "C:\\Users\\PC\\Anaconda3\\lib\\site-packages\\IPython\\core\\interactiveshell.py:2785: DtypeWarning: Columns (0,9,10) have mixed types. Specify dtype option on import or set low_memory=False.\n",
      "  interactivity=interactivity, compiler=compiler, result=result)\n"
     ]
    },
    {
     "data": {
      "text/html": [
       "<div>\n",
       "<style scoped>\n",
       "    .dataframe tbody tr th:only-of-type {\n",
       "        vertical-align: middle;\n",
       "    }\n",
       "\n",
       "    .dataframe tbody tr th {\n",
       "        vertical-align: top;\n",
       "    }\n",
       "\n",
       "    .dataframe thead th {\n",
       "        text-align: right;\n",
       "    }\n",
       "</style>\n",
       "<table border=\"1\" class=\"dataframe\">\n",
       "  <thead>\n",
       "    <tr style=\"text-align: right;\">\n",
       "      <th></th>\n",
       "      <th>INCIDENT_UNIQUE_IDENTIFIER</th>\n",
       "      <th>INCIDENT_DATE</th>\n",
       "      <th>OFFICER_ASSIGNMENT</th>\n",
       "      <th>LOCATION_DISTRICT</th>\n",
       "      <th>SHIFT</th>\n",
       "      <th>LOCATION_DISTRICT.1</th>\n",
       "      <th>REASON_FOR_FORCE</th>\n",
       "      <th>TYPE_OF_FORCE_USED</th>\n",
       "      <th>SUBJECT_DETAILS</th>\n",
       "      <th>INCIDENT_REASON</th>\n",
       "      <th>...</th>\n",
       "      <th>OFFICER_HOSPITALIZATION</th>\n",
       "      <th>OFFICER_DETAILS</th>\n",
       "      <th>SUBJECT_RACT</th>\n",
       "      <th>SUBJECT_GENDER</th>\n",
       "      <th>SUBJECT_AGE</th>\n",
       "      <th>OFFICER_RACE</th>\n",
       "      <th>OFFICER_GENDER</th>\n",
       "      <th>OFFICER_AGE</th>\n",
       "      <th>OFFICER_YEARS_ON_FORCE</th>\n",
       "      <th>OFFICER_ID</th>\n",
       "    </tr>\n",
       "  </thead>\n",
       "  <tbody>\n",
       "    <tr>\n",
       "      <th>0</th>\n",
       "      <td>id</td>\n",
       "      <td>occurredDate</td>\n",
       "      <td>division</td>\n",
       "      <td>district</td>\n",
       "      <td>shift</td>\n",
       "      <td>beat</td>\n",
       "      <td>useOfForceReason</td>\n",
       "      <td>officerForceType</td>\n",
       "      <td>disposition</td>\n",
       "      <td>serviceType</td>\n",
       "      <td>...</td>\n",
       "      <td>officerHospitalized</td>\n",
       "      <td>officerCondition</td>\n",
       "      <td>residentRace</td>\n",
       "      <td>residentSex</td>\n",
       "      <td>residentAge</td>\n",
       "      <td>officerRace</td>\n",
       "      <td>officerSex</td>\n",
       "      <td>officerAge</td>\n",
       "      <td>officerYearsOfService</td>\n",
       "      <td>officerIdentifier</td>\n",
       "    </tr>\n",
       "    <tr>\n",
       "      <th>1</th>\n",
       "      <td>9c7c088255e6080dceebafbae22df7eb</td>\n",
       "      <td>8/23/14 0:00</td>\n",
       "      <td>Operations Division</td>\n",
       "      <td>Northwest District</td>\n",
       "      <td>NW Day Shift</td>\n",
       "      <td>NW Day Shift</td>\n",
       "      <td>Fleeing</td>\n",
       "      <td>Less Lethal-Taser</td>\n",
       "      <td>In compliance</td>\n",
       "      <td>Self-Initiated Activity</td>\n",
       "      <td>...</td>\n",
       "      <td>FALSE</td>\n",
       "      <td>No injuries noted or visible</td>\n",
       "      <td>Black</td>\n",
       "      <td>Male</td>\n",
       "      <td>NaN</td>\n",
       "      <td>White</td>\n",
       "      <td>Male</td>\n",
       "      <td>33</td>\n",
       "      <td>11</td>\n",
       "      <td>11342e9840a7b53dec8c039a6a53c129</td>\n",
       "    </tr>\n",
       "    <tr>\n",
       "      <th>2</th>\n",
       "      <td>670a17d1bc2593b64664b361760d73c5</td>\n",
       "      <td>8/28/14 0:00</td>\n",
       "      <td>Operations Division</td>\n",
       "      <td>Southeast District</td>\n",
       "      <td>SE Middle Shift</td>\n",
       "      <td>NaN</td>\n",
       "      <td>Combative Suspect</td>\n",
       "      <td>Physical-Hands, Fist, Feet</td>\n",
       "      <td>In compliance</td>\n",
       "      <td>Arrest</td>\n",
       "      <td>...</td>\n",
       "      <td>FALSE</td>\n",
       "      <td>No injuries noted or visible</td>\n",
       "      <td>White</td>\n",
       "      <td>Male</td>\n",
       "      <td>18</td>\n",
       "      <td>White</td>\n",
       "      <td>Male</td>\n",
       "      <td>37</td>\n",
       "      <td>13</td>\n",
       "      <td>547c246b80e932bf70340356c7e207e1</td>\n",
       "    </tr>\n",
       "    <tr>\n",
       "      <th>3</th>\n",
       "      <td>0dbfcea33161568591ee1bce0498b590</td>\n",
       "      <td>8/23/14 0:00</td>\n",
       "      <td>Operations Division</td>\n",
       "      <td>North District</td>\n",
       "      <td>ND Late Tactical Shift</td>\n",
       "      <td>NaN</td>\n",
       "      <td>Resisting Arrest</td>\n",
       "      <td>Physical-Handcuffing</td>\n",
       "      <td>In compliance</td>\n",
       "      <td>Call For Service</td>\n",
       "      <td>...</td>\n",
       "      <td>FALSE</td>\n",
       "      <td>No injuries noted or visible</td>\n",
       "      <td>Black</td>\n",
       "      <td>Male</td>\n",
       "      <td>36</td>\n",
       "      <td>White</td>\n",
       "      <td>Male</td>\n",
       "      <td>29</td>\n",
       "      <td>4</td>\n",
       "      <td>a4555ab4905cda5e4a1430a69a0afdcd</td>\n",
       "    </tr>\n",
       "    <tr>\n",
       "      <th>4</th>\n",
       "      <td>2c556058ed11488c1badb2282f6e453c</td>\n",
       "      <td>8/28/14 0:00</td>\n",
       "      <td>Homeland Security Division</td>\n",
       "      <td>Homeland Security Bureau/Tactical</td>\n",
       "      <td>Canine Section</td>\n",
       "      <td>Canine Unit - Late</td>\n",
       "      <td>Non-Compliant</td>\n",
       "      <td>Canine Bite</td>\n",
       "      <td>In compliance</td>\n",
       "      <td>Request For PSD</td>\n",
       "      <td>...</td>\n",
       "      <td>FALSE</td>\n",
       "      <td>NaN</td>\n",
       "      <td>Black</td>\n",
       "      <td>Male</td>\n",
       "      <td>40</td>\n",
       "      <td>White</td>\n",
       "      <td>Male</td>\n",
       "      <td>42</td>\n",
       "      <td>17</td>\n",
       "      <td>b1b813ded824994e6af194d0d7297470</td>\n",
       "    </tr>\n",
       "  </tbody>\n",
       "</table>\n",
       "<p>5 rows × 26 columns</p>\n",
       "</div>"
      ],
      "text/plain": [
       "         INCIDENT_UNIQUE_IDENTIFIER INCIDENT_DATE          OFFICER_ASSIGNMENT  \\\n",
       "0                                id  occurredDate                    division   \n",
       "1  9c7c088255e6080dceebafbae22df7eb  8/23/14 0:00         Operations Division   \n",
       "2  670a17d1bc2593b64664b361760d73c5  8/28/14 0:00         Operations Division   \n",
       "3  0dbfcea33161568591ee1bce0498b590  8/23/14 0:00         Operations Division   \n",
       "4  2c556058ed11488c1badb2282f6e453c  8/28/14 0:00  Homeland Security Division   \n",
       "\n",
       "                   LOCATION_DISTRICT                   SHIFT  \\\n",
       "0                           district                   shift   \n",
       "1                 Northwest District            NW Day Shift   \n",
       "2                 Southeast District         SE Middle Shift   \n",
       "3                     North District  ND Late Tactical Shift   \n",
       "4  Homeland Security Bureau/Tactical          Canine Section   \n",
       "\n",
       "  LOCATION_DISTRICT.1   REASON_FOR_FORCE          TYPE_OF_FORCE_USED  \\\n",
       "0                beat   useOfForceReason            officerForceType   \n",
       "1        NW Day Shift            Fleeing           Less Lethal-Taser   \n",
       "2                 NaN  Combative Suspect  Physical-Hands, Fist, Feet   \n",
       "3                 NaN   Resisting Arrest        Physical-Handcuffing   \n",
       "4  Canine Unit - Late      Non-Compliant                 Canine Bite   \n",
       "\n",
       "  SUBJECT_DETAILS          INCIDENT_REASON                ...                 \\\n",
       "0     disposition              serviceType                ...                  \n",
       "1   In compliance  Self-Initiated Activity                ...                  \n",
       "2   In compliance                   Arrest                ...                  \n",
       "3   In compliance         Call For Service                ...                  \n",
       "4   In compliance          Request For PSD                ...                  \n",
       "\n",
       "  OFFICER_HOSPITALIZATION               OFFICER_DETAILS  SUBJECT_RACT  \\\n",
       "0     officerHospitalized              officerCondition  residentRace   \n",
       "1                   FALSE  No injuries noted or visible         Black   \n",
       "2                   FALSE  No injuries noted or visible         White   \n",
       "3                   FALSE  No injuries noted or visible         Black   \n",
       "4                   FALSE                           NaN         Black   \n",
       "\n",
       "  SUBJECT_GENDER  SUBJECT_AGE OFFICER_RACE OFFICER_GENDER OFFICER_AGE  \\\n",
       "0    residentSex  residentAge  officerRace     officerSex  officerAge   \n",
       "1           Male          NaN        White           Male          33   \n",
       "2           Male           18        White           Male          37   \n",
       "3           Male           36        White           Male          29   \n",
       "4           Male           40        White           Male          42   \n",
       "\n",
       "  OFFICER_YEARS_ON_FORCE                        OFFICER_ID  \n",
       "0  officerYearsOfService                 officerIdentifier  \n",
       "1                     11  11342e9840a7b53dec8c039a6a53c129  \n",
       "2                     13  547c246b80e932bf70340356c7e207e1  \n",
       "3                      4  a4555ab4905cda5e4a1430a69a0afdcd  \n",
       "4                     17  b1b813ded824994e6af194d0d7297470  \n",
       "\n",
       "[5 rows x 26 columns]"
      ]
     },
     "execution_count": 36,
     "metadata": {},
     "output_type": "execute_result"
    }
   ],
   "source": [
    "pds = []\n",
    "for i in range(12):\n",
    "    pds.append(pd.read_csv(police_departments[i] + f_dot[i]))\n",
    "pds[1].head()\n",
    "#We load csv files (incident reports) into pandas"
   ]
  },
  {
   "cell_type": "code",
   "execution_count": 11,
   "metadata": {},
   "outputs": [],
   "source": [
    "ACS = []\n",
    "Shapefiles = []\n",
    "for i in range(len(f)):\n",
    "    for filename in os.listdir(f[i]):\n",
    "        if \"ACS\"  in filename:\n",
    "            ACS.append(f[i] + '/' + filename + '/')\n",
    "        else:\n",
    "            Shapefiles.append(filename)"
   ]
  },
  {
   "cell_type": "code",
   "execution_count": 37,
   "metadata": {},
   "outputs": [
    {
     "data": {
      "text/plain": [
       "['./data/Dept_11-00091/11-00091_ACS_data//11-00091_ACS_education-attainment/',\n",
       " './data/Dept_11-00091/11-00091_ACS_data//11-00091_ACS_education-attainment-over-25/',\n",
       " './data/Dept_11-00091/11-00091_ACS_data//11-00091_ACS_employment/',\n",
       " './data/Dept_11-00091/11-00091_ACS_data//11-00091_ACS_income/',\n",
       " './data/Dept_11-00091/11-00091_ACS_data//11-00091_ACS_owner-occupied-housing/',\n",
       " './data/Dept_11-00091/11-00091_ACS_data//11-00091_ACS_poverty/',\n",
       " './data/Dept_11-00091/11-00091_ACS_data//11-00091_ACS_race-age-sex/',\n",
       " './data/Dept_11-00091/11-00091_ACS_data//11-00091_ACS_race-sex-age/',\n",
       " './data/Dept_23-00089/23-00089_ACS_data//23-00089_ACS_education-attainment/',\n",
       " './data/Dept_23-00089/23-00089_ACS_data//23-00089_ACS_education-attainment-over-25/',\n",
       " './data/Dept_23-00089/23-00089_ACS_data//23-00089_ACS_employment/',\n",
       " './data/Dept_23-00089/23-00089_ACS_data//23-00089_ACS_income/',\n",
       " './data/Dept_23-00089/23-00089_ACS_data//23-00089_ACS_owner-occupied-housing/',\n",
       " './data/Dept_23-00089/23-00089_ACS_data//23-00089_ACS_poverty/',\n",
       " './data/Dept_23-00089/23-00089_ACS_data//23-00089_ACS_race-sex-age/',\n",
       " './data/Dept_24-00013/24-00013_ACS_data//24-00013_ACS_education-attainment/',\n",
       " './data/Dept_24-00013/24-00013_ACS_data//24-00013_ACS_education-attainment-over-25/',\n",
       " './data/Dept_24-00013/24-00013_ACS_data//24-00013_ACS_employment/',\n",
       " './data/Dept_24-00013/24-00013_ACS_data//24-00013_ACS_income/',\n",
       " './data/Dept_24-00013/24-00013_ACS_data//24-00013_ACS_owner-occupied-housing/',\n",
       " './data/Dept_24-00013/24-00013_ACS_data//24-00013_ACS_poverty/',\n",
       " './data/Dept_24-00013/24-00013_ACS_data//24-00013_ACS_race-sex-age/',\n",
       " './data/Dept_24-00098/24-00098_ACS_data//24-00098_ACS_education-attainment/',\n",
       " './data/Dept_24-00098/24-00098_ACS_data//24-00098_ACS_education-attainment-over-25/',\n",
       " './data/Dept_24-00098/24-00098_ACS_data//24-00098_ACS_employment/',\n",
       " './data/Dept_24-00098/24-00098_ACS_data//24-00098_ACS_income/',\n",
       " './data/Dept_24-00098/24-00098_ACS_data//24-00098_ACS_owner-occupied-housing/',\n",
       " './data/Dept_24-00098/24-00098_ACS_data//24-00098_ACS_poverty/',\n",
       " './data/Dept_24-00098/24-00098_ACS_data//24-00098_ACS_race-sex-age/',\n",
       " './data/Dept_35-00016/35-00016_ACS_data//35-00016_ACS_education-attainment/',\n",
       " './data/Dept_35-00016/35-00016_ACS_data//35-00016_ACS_education-attainment-over-25/',\n",
       " './data/Dept_35-00016/35-00016_ACS_data//35-00016_ACS_employment/',\n",
       " './data/Dept_35-00016/35-00016_ACS_data//35-00016_ACS_income/',\n",
       " './data/Dept_35-00016/35-00016_ACS_data//35-00016_ACS_owner-occupied-housing/',\n",
       " './data/Dept_35-00016/35-00016_ACS_data//35-00016_ACS_poverty/',\n",
       " './data/Dept_35-00016/35-00016_ACS_data//35-00016_ACS_race-sex-age/',\n",
       " './data/Dept_35-00103/35-00103_ACS_data//35-00103_ACS_education-attainment/',\n",
       " './data/Dept_35-00103/35-00103_ACS_data//35-00103_ACS_education-attainment-over-25/',\n",
       " './data/Dept_35-00103/35-00103_ACS_data//35-00103_ACS_employment/',\n",
       " './data/Dept_35-00103/35-00103_ACS_data//35-00103_ACS_income/',\n",
       " './data/Dept_35-00103/35-00103_ACS_data//35-00103_ACS_owner-occupied-housing/',\n",
       " './data/Dept_35-00103/35-00103_ACS_data//35-00103_ACS_poverty/',\n",
       " './data/Dept_35-00103/35-00103_ACS_data//35-00103_ACS_race-sex-age/',\n",
       " './data/Dept_37-00027/37-00027_ACS_data//37-00027_ACS_education-attainment/',\n",
       " './data/Dept_37-00027/37-00027_ACS_data//37-00027_ACS_education-attainment-over-25/',\n",
       " './data/Dept_37-00027/37-00027_ACS_data//37-00027_ACS_employment/',\n",
       " './data/Dept_37-00027/37-00027_ACS_data//37-00027_ACS_income/',\n",
       " './data/Dept_37-00027/37-00027_ACS_data//37-00027_ACS_owner-occupied-housing/',\n",
       " './data/Dept_37-00027/37-00027_ACS_data//37-00027_ACS_poverty/',\n",
       " './data/Dept_37-00027/37-00027_ACS_data//37-00027_ACS_race-sex-age/',\n",
       " './data/Dept_37-00049/37-00049_ACS_data//37-00049_ACS_education-attainment/',\n",
       " './data/Dept_37-00049/37-00049_ACS_data//37-00049_ACS_education-attainment-over-25/',\n",
       " './data/Dept_37-00049/37-00049_ACS_data//37-00049_ACS_employment/',\n",
       " './data/Dept_37-00049/37-00049_ACS_data//37-00049_ACS_income/',\n",
       " './data/Dept_37-00049/37-00049_ACS_data//37-00049_ACS_owner-occupied-housing/',\n",
       " './data/Dept_37-00049/37-00049_ACS_data//37-00049_ACS_poverty/',\n",
       " './data/Dept_37-00049/37-00049_ACS_data//37-00049_ACS_race-sex-age/',\n",
       " './data/Dept_49-00009/49-00009_ACS_data//49-00009_ACS_education-attainment/',\n",
       " './data/Dept_49-00009/49-00009_ACS_data//49-00009_ACS_education-attainment-over-25/',\n",
       " './data/Dept_49-00009/49-00009_ACS_data//49-00009_ACS_employment/',\n",
       " './data/Dept_49-00009/49-00009_ACS_data//49-00009_ACS_income/',\n",
       " './data/Dept_49-00009/49-00009_ACS_data//49-00009_ACS_owner-occupied-housing/',\n",
       " './data/Dept_49-00009/49-00009_ACS_data//49-00009_ACS_poverty/',\n",
       " './data/Dept_49-00009/49-00009_ACS_data//49-00009_ACS_race-sex-age/',\n",
       " './data/Dept_49-00033/49-00033_ACS_data//49-00033_ACS_education-attainment/',\n",
       " './data/Dept_49-00033/49-00033_ACS_data//49-00033_ACS_education-attainment-over-25/',\n",
       " './data/Dept_49-00033/49-00033_ACS_data//49-00033_ACS_employment/',\n",
       " './data/Dept_49-00033/49-00033_ACS_data//49-00033_ACS_income/',\n",
       " './data/Dept_49-00033/49-00033_ACS_data//49-00033_ACS_owner-occupied-housing/',\n",
       " './data/Dept_49-00033/49-00033_ACS_data//49-00033_ACS_poverty/',\n",
       " './data/Dept_49-00033/49-00033_ACS_data//49-00033_ACS_race-sex-age/',\n",
       " './data/Dept_49-00035/49-00035_ACS_data//49-00035_ACS_education-attainment/',\n",
       " './data/Dept_49-00035/49-00035_ACS_data//49-00035_ACS_education-attainment-over-25/',\n",
       " './data/Dept_49-00035/49-00035_ACS_data//49-00035_ACS_employment/',\n",
       " './data/Dept_49-00035/49-00035_ACS_data//49-00035_ACS_income/',\n",
       " './data/Dept_49-00035/49-00035_ACS_data//49-00035_ACS_owner-occupied-housing/',\n",
       " './data/Dept_49-00035/49-00035_ACS_data//49-00035_ACS_poverty/',\n",
       " './data/Dept_49-00035/49-00035_ACS_data//49-00035_ACS_race-sex-age/',\n",
       " './data/Dept_49-00081/49-00081_ACS_data//49-00081_ACS_education-attainment/',\n",
       " './data/Dept_49-00081/49-00081_ACS_data//49-00081_ACS_education-attainment-over-25/',\n",
       " './data/Dept_49-00081/49-00081_ACS_data//49-00081_ACS_employment/',\n",
       " './data/Dept_49-00081/49-00081_ACS_data//49-00081_ACS_income/',\n",
       " './data/Dept_49-00081/49-00081_ACS_data//49-00081_ACS_owner-occupied-housing/',\n",
       " './data/Dept_49-00081/49-00081_ACS_data//49-00081_ACS_poverty-status/',\n",
       " './data/Dept_49-00081/49-00081_ACS_data//49-00081_ACS_race-sex-age/']"
      ]
     },
     "execution_count": 37,
     "metadata": {},
     "output_type": "execute_result"
    }
   ],
   "source": [
    "ACS = pd.unique(ACS).tolist()\n",
    "ACS\n",
    "#These are all ACS folders (census data)"
   ]
  },
  {
   "cell_type": "code",
   "execution_count": 13,
   "metadata": {},
   "outputs": [],
   "source": [
    "Shapefiles\n",
    "Shapefiles = pd.unique(Shapefiles).tolist()"
   ]
  },
  {
   "cell_type": "code",
   "execution_count": 14,
   "metadata": {},
   "outputs": [
    {
     "data": {
      "text/plain": [
       "['boston_police_districts_f55.cst',\n",
       " 'boston_police_districts_f55.dbf',\n",
       " 'boston_police_districts_f55.prj',\n",
       " 'boston_police_districts_f55.shp',\n",
       " 'boston_police_districts_f55.shx',\n",
       " 'Indianapolis_Police_Zones.cpg',\n",
       " 'Indianapolis_Police_Zones.dbf',\n",
       " 'Indianapolis_Police_Zones.prj',\n",
       " 'Indianapolis_Police_Zones.shp',\n",
       " 'Indianapolis_Police_Zones.shx',\n",
       " 'Minneapolis_Police_Precincts.cpg',\n",
       " 'Minneapolis_Police_Precincts.dbf',\n",
       " 'Minneapolis_Police_Precincts.prj',\n",
       " 'Minneapolis_Police_Precincts.shp',\n",
       " 'Minneapolis_Police_Precincts.shx',\n",
       " 'Minneapolis_Police_Precincts.xml',\n",
       " 'StPaul_geo_export_6646246d-0f26-48c5-a924-f5a99bb51c47.dbf',\n",
       " 'StPaul_geo_export_6646246d-0f26-48c5-a924-f5a99bb51c47.prj',\n",
       " 'StPaul_geo_export_6646246d-0f26-48c5-a924-f5a99bb51c47.shp',\n",
       " 'StPaul_geo_export_6646246d-0f26-48c5-a924-f5a99bb51c47.shx',\n",
       " '35-00016_employment',\n",
       " 'OrlandoPoliceDistricts.dbf',\n",
       " 'OrlandoPoliceDistricts.lyr',\n",
       " 'OrlandoPoliceDistricts.pdf',\n",
       " 'OrlandoPoliceDistricts.prj',\n",
       " 'OrlandoPoliceDistricts.shp',\n",
       " 'OrlandoPoliceDistricts.shp.xml',\n",
       " 'OrlandoPoliceDistricts.shx',\n",
       " 'OrlandoPoliceDivisions.dbf',\n",
       " 'OrlandoPoliceDivisions.lyr',\n",
       " 'OrlandoPoliceDivisions.pdf',\n",
       " 'OrlandoPoliceDivisions.prj',\n",
       " 'OrlandoPoliceDivisions.shp',\n",
       " 'OrlandoPoliceDivisions.shp.xml',\n",
       " 'OrlandoPoliceDivisions.shx',\n",
       " 'OrlandoPoliceSectors.dbf',\n",
       " 'OrlandoPoliceSectors.lyr',\n",
       " 'OrlandoPoliceSectors.pdf',\n",
       " 'OrlandoPoliceSectors.prj',\n",
       " 'OrlandoPoliceSectors.shp',\n",
       " 'OrlandoPoliceSectors.shp.xml',\n",
       " 'OrlandoPoliceSectors.shx',\n",
       " 'CMPD_Police_Division_Offices.cpg',\n",
       " 'CMPD_Police_Division_Offices.dbf',\n",
       " 'CMPD_Police_Division_Offices.prj',\n",
       " 'CMPD_Police_Division_Offices.shp',\n",
       " 'CMPD_Police_Division_Offices.shx',\n",
       " 'APD_DIST.dbf',\n",
       " 'APD_DIST.sbn',\n",
       " 'APD_DIST.sbx',\n",
       " 'APD_DIST.shp',\n",
       " 'APD_DIST.shx',\n",
       " 'COD_DataDisclaimer.pdf',\n",
       " 'EPIC.dbf',\n",
       " 'EPIC.prj',\n",
       " 'EPIC.sbn',\n",
       " 'EPIC.sbx',\n",
       " 'EPIC.shp',\n",
       " 'EPIC.shp.xml',\n",
       " 'EPIC.shx',\n",
       " 'SPD_BEATS_WGS84.CPG',\n",
       " 'SPD_BEATS_WGS84.dbf',\n",
       " 'SPD_BEATS_WGS84.prj',\n",
       " 'SPD_BEATS_WGS84.sbn',\n",
       " 'SPD_BEATS_WGS84.sbx',\n",
       " 'SPD_BEATS_WGS84.shp',\n",
       " 'SPD_BEATS_WGS84.shp.xml',\n",
       " 'SPD_BEATS_WGS84.shx',\n",
       " 'lapd division.dbf',\n",
       " 'lapd division.prj',\n",
       " 'lapd division.shp',\n",
       " 'lapd division.shx',\n",
       " 'Oakland_geo_export_e0633584-8d50-406e-b9d6-e33545fdae16.dbf',\n",
       " 'Oakland_geo_export_e0633584-8d50-406e-b9d6-e33545fdae16.prj',\n",
       " 'Oakland_geo_export_e0633584-8d50-406e-b9d6-e33545fdae16.shp',\n",
       " 'Oakland_geo_export_e0633584-8d50-406e-b9d6-e33545fdae16.shx',\n",
       " 'SFPD_geo_export_8a7e3c3b-8d43-4359-bebe-b7ef6a6e21f3.dbf',\n",
       " 'SFPD_geo_export_8a7e3c3b-8d43-4359-bebe-b7ef6a6e21f3.prj',\n",
       " 'SFPD_geo_export_8a7e3c3b-8d43-4359-bebe-b7ef6a6e21f3.shp',\n",
       " 'SFPD_geo_export_8a7e3c3b-8d43-4359-bebe-b7ef6a6e21f3.shx']"
      ]
     },
     "execution_count": 14,
     "metadata": {},
     "output_type": "execute_result"
    }
   ],
   "source": [
    "Shapefiles\n"
   ]
  },
  {
   "cell_type": "code",
   "execution_count": 15,
   "metadata": {},
   "outputs": [
    {
     "data": {
      "text/plain": [
       "['cst',\n",
       " 'dbf',\n",
       " 'prj',\n",
       " 'shp',\n",
       " 'shx',\n",
       " 'cpg',\n",
       " 'xml',\n",
       " 'ent',\n",
       " 'lyr',\n",
       " 'pdf',\n",
       " 'sbn',\n",
       " 'sbx',\n",
       " 'CPG']"
      ]
     },
     "execution_count": 15,
     "metadata": {},
     "output_type": "execute_result"
    }
   ],
   "source": [
    "file_type = []\n",
    "for i in range(len(Shapefiles)):\n",
    "    file_type.append(Shapefiles[i][-3:])\n",
    "file_type\n",
    "file_type1 = pd.unique(file_type).tolist()\n",
    "file_type1\n",
    "# Types of files in Shapefiles"
   ]
  },
  {
   "cell_type": "code",
   "execution_count": 16,
   "metadata": {},
   "outputs": [],
   "source": [
    "Shapefiles_pd = []"
   ]
  },
  {
   "cell_type": "code",
   "execution_count": 17,
   "metadata": {},
   "outputs": [],
   "source": [
    "#We create array of arrays, where each array is list of all shapefiles for one police department\n",
    "k = []\n",
    "for i in range(len(Shapefiles)):\n",
    "    if \"boston\" in Shapefiles[i]:\n",
    "        k.append(Shapefiles[i])\n",
    "Shapefiles_pd.append(k)\n",
    "k =[]\n",
    "for i in range(len(Shapefiles)):\n",
    "    if \"Indianapolis\" in Shapefiles[i]:\n",
    "        k.append(Shapefiles[i])\n",
    "Shapefiles_pd.append(k)\n",
    "k =[]       \n",
    "for i in range(len(Shapefiles)):\n",
    "    if \"Minneapolis\" in Shapefiles[i]:\n",
    "        k.append(Shapefiles[i])\n",
    "Shapefiles_pd.append(k)\n",
    "k =[] \n",
    "for i in range(len(Shapefiles)):\n",
    "    if \"StPaul\" in Shapefiles[i]:\n",
    "        k.append(Shapefiles[i])\n",
    "Shapefiles_pd.append(k)\n",
    "k =[] \n",
    "for i in range(len(Shapefiles)):\n",
    "    if \"Orlando\" in Shapefiles[i]:\n",
    "        k.append(Shapefiles[i])\n",
    "Shapefiles_pd.append(k)\n",
    "k =[] \n",
    "for i in range(len(Shapefiles)):\n",
    "    if \"CMPD\" in Shapefiles[i]:\n",
    "        k.append(Shapefiles[i])\n",
    "Shapefiles_pd.append(k)\n",
    "k =[] \n",
    "for i in range(len(Shapefiles)):\n",
    "    if \"APD\" in Shapefiles[i]:\n",
    "        k.append(Shapefiles[i])\n",
    "Shapefiles_pd.append(k)\n",
    "k =[] \n",
    "for i in range(len(Shapefiles)):\n",
    "    if \"COD\" in Shapefiles[i] or \"EPIC\" in Shapefiles[i]:\n",
    "        k.append(Shapefiles[i])\n",
    "Shapefiles_pd.append(k)\n",
    "k =[] \n",
    "for i in range(len(Shapefiles)):\n",
    "    if \"SPD\" in Shapefiles[i]:\n",
    "        k.append(Shapefiles[i])\n",
    "Shapefiles_pd.append(k)\n",
    "k =[] \n",
    "for i in range(len(Shapefiles)):\n",
    "    if \"lapd\" in Shapefiles[i]:\n",
    "        k.append(Shapefiles[i])\n",
    "Shapefiles_pd.append(k)\n",
    "k =[] \n",
    "for i in range(len(Shapefiles)):\n",
    "    if \"Oakland\" in Shapefiles[i]:\n",
    "        k.append(Shapefiles[i])\n",
    "Shapefiles_pd.append(k)\n",
    "k =[] \n",
    "for i in range(len(Shapefiles)):\n",
    "    if \"SFPD\" in Shapefiles[i]:\n",
    "        k.append(Shapefiles[i])\n",
    "Shapefiles_pd.append(k)\n",
    "k =[] "
   ]
  },
  {
   "cell_type": "code",
   "execution_count": null,
   "metadata": {},
   "outputs": [],
   "source": []
  },
  {
   "cell_type": "code",
   "execution_count": 18,
   "metadata": {},
   "outputs": [
    {
     "data": {
      "text/plain": [
       "['Indianapolis_Police_Zones.cpg',\n",
       " 'Indianapolis_Police_Zones.dbf',\n",
       " 'Indianapolis_Police_Zones.prj',\n",
       " 'Indianapolis_Police_Zones.shp',\n",
       " 'Indianapolis_Police_Zones.shx']"
      ]
     },
     "execution_count": 18,
     "metadata": {},
     "output_type": "execute_result"
    }
   ],
   "source": [
    "Shapefiles_pd[1]\n",
    "#Shapefiles for Indianapolis"
   ]
  },
  {
   "cell_type": "code",
   "execution_count": 19,
   "metadata": {},
   "outputs": [],
   "source": [
    "ACS_files = []\n",
    "ACS_pd = []\n",
    "for i in range(len(ACS)):\n",
    "    for j in os.listdir(ACS[i]):\n",
    "        ACS_files.append(j)\n",
    "            #ACS_pd.append(pd.read_csv(ACS[i]+j))\n",
    "        "
   ]
  },
  {
   "cell_type": "code",
   "execution_count": 20,
   "metadata": {},
   "outputs": [
    {
     "data": {
      "text/plain": [
       "85"
      ]
     },
     "execution_count": 20,
     "metadata": {},
     "output_type": "execute_result"
    }
   ],
   "source": [
    "ACS_files\n",
    "len(ACS_files)\n",
    "len(ACS)"
   ]
  },
  {
   "cell_type": "code",
   "execution_count": 21,
   "metadata": {},
   "outputs": [
    {
     "data": {
      "text/plain": [
       "['csv', 'txt']"
      ]
     },
     "execution_count": 21,
     "metadata": {},
     "output_type": "execute_result"
    }
   ],
   "source": [
    "len(ACS_files)\n",
    "ACS_files\n",
    "file_type = []\n",
    "for i in range(len(ACS_files)):\n",
    "    file_type.append(ACS_files[i][-3:])\n",
    "file_type\n",
    "file_type1 = pd.unique(file_type).tolist()\n",
    "file_type1\n",
    "# Types of files in ACS_files"
   ]
  },
  {
   "cell_type": "code",
   "execution_count": 22,
   "metadata": {},
   "outputs": [
    {
     "data": {
      "text/plain": [
       "Index(['GEO.id', 'GEO.id2', 'GEO.display-label', 'HC01_EST_VC02',\n",
       "       'HC01_MOE_VC02', 'HC02_EST_VC02', 'HC02_MOE_VC02', 'HC03_EST_VC02',\n",
       "       'HC03_MOE_VC02', 'HC04_EST_VC02',\n",
       "       ...\n",
       "       'HC02_EST_VC85', 'HC02_MOE_VC85', 'HC03_EST_VC85', 'HC03_MOE_VC85',\n",
       "       'HC04_EST_VC85', 'HC04_MOE_VC85', 'HC05_EST_VC85', 'HC05_MOE_VC85',\n",
       "       'HC06_EST_VC85', 'HC06_MOE_VC85'],\n",
       "      dtype='object', length=771)"
      ]
     },
     "execution_count": 22,
     "metadata": {},
     "output_type": "execute_result"
    }
   ],
   "source": [
    "pd.read_csv(ACS[0] + ACS_files[0]).head()\n",
    "pd.read_csv(ACS[0] + ACS_files[1]).columns"
   ]
  }
 ],
 "metadata": {
  "kernelspec": {
   "display_name": "Python 3",
   "language": "python",
   "name": "python3"
  },
  "language_info": {
   "codemirror_mode": {
    "name": "ipython",
    "version": 3
   },
   "file_extension": ".py",
   "mimetype": "text/x-python",
   "name": "python",
   "nbconvert_exporter": "python",
   "pygments_lexer": "ipython3",
   "version": "3.6.5"
  }
 },
 "nbformat": 4,
 "nbformat_minor": 2
}
