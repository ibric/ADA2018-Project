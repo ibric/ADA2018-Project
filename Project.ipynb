{
 "cells": [
  {
   "cell_type": "code",
   "execution_count": 103,
   "metadata": {},
   "outputs": [],
   "source": [
    "import pandas as pd\n",
    "import numpy as np\n",
    "import scipy as sp\n",
    "import os\n",
    "from sklearn.linear_model import LinearRegression, LogisticRegression\n",
    "from sklearn.ensemble import RandomForestClassifier\n",
    "import matplotlib\n",
    "import matplotlib.pyplot as plt\n",
    "from sklearn import datasets, linear_model"
   ]
  },
  {
   "cell_type": "code",
   "execution_count": 104,
   "metadata": {},
   "outputs": [],
   "source": [
    "data_folder = './data/'"
   ]
  },
  {
   "cell_type": "code",
   "execution_count": 106,
   "metadata": {},
   "outputs": [],
   "source": [
    "police_departments = []\n",
    "for filename in os.listdir(data_folder):\n",
    "    if \".\" in filename:\n",
    "        variable_descriptions = pd.read_csv(data_folder + filename)\n",
    "    else:\n",
    "        police_departments.append(data_folder + filename)\n",
    "       "
   ]
  },
  {
   "cell_type": "code",
   "execution_count": 107,
   "metadata": {},
   "outputs": [
    {
     "data": {
      "text/plain": [
       "['./data/Dept_11-00091',\n",
       " './data/Dept_23-00089',\n",
       " './data/Dept_24-00013',\n",
       " './data/Dept_24-00098',\n",
       " './data/Dept_35-00016',\n",
       " './data/Dept_35-00103',\n",
       " './data/Dept_37-00027',\n",
       " './data/Dept_37-00049',\n",
       " './data/Dept_49-00009',\n",
       " './data/Dept_49-00033',\n",
       " './data/Dept_49-00035',\n",
       " './data/Dept_49-00081']"
      ]
     },
     "execution_count": 107,
     "metadata": {},
     "output_type": "execute_result"
    }
   ],
   "source": [
    "police_departments"
   ]
  },
  {
   "cell_type": "raw",
   "metadata": {},
   "source": [
    "variable_descriptions"
   ]
  },
  {
   "cell_type": "code",
   "execution_count": 140,
   "metadata": {},
   "outputs": [
    {
     "data": {
      "text/html": [
       "<div>\n",
       "<style scoped>\n",
       "    .dataframe tbody tr th:only-of-type {\n",
       "        vertical-align: middle;\n",
       "    }\n",
       "\n",
       "    .dataframe tbody tr th {\n",
       "        vertical-align: top;\n",
       "    }\n",
       "\n",
       "    .dataframe thead th {\n",
       "        text-align: right;\n",
       "    }\n",
       "</style>\n",
       "<table border=\"1\" class=\"dataframe\">\n",
       "  <thead>\n",
       "    <tr style=\"text-align: right;\">\n",
       "      <th></th>\n",
       "      <th>GEO.id</th>\n",
       "      <th>Id</th>\n",
       "    </tr>\n",
       "  </thead>\n",
       "  <tbody>\n",
       "    <tr>\n",
       "      <th>0</th>\n",
       "      <td>GEO.id2</td>\n",
       "      <td>Id2</td>\n",
       "    </tr>\n",
       "    <tr>\n",
       "      <th>1</th>\n",
       "      <td>GEO.display-label</td>\n",
       "      <td>Geography</td>\n",
       "    </tr>\n",
       "    <tr>\n",
       "      <th>2</th>\n",
       "      <td>HC01_VC03</td>\n",
       "      <td>Estimate; SEX AND AGE - Total population</td>\n",
       "    </tr>\n",
       "    <tr>\n",
       "      <th>3</th>\n",
       "      <td>HC02_VC03</td>\n",
       "      <td>Margin of Error; SEX AND AGE - Total population</td>\n",
       "    </tr>\n",
       "    <tr>\n",
       "      <th>4</th>\n",
       "      <td>HC03_VC03</td>\n",
       "      <td>Percent; SEX AND AGE - Total population</td>\n",
       "    </tr>\n",
       "  </tbody>\n",
       "</table>\n",
       "</div>"
      ],
      "text/plain": [
       "              GEO.id                                               Id\n",
       "0            GEO.id2                                              Id2\n",
       "1  GEO.display-label                                        Geography\n",
       "2          HC01_VC03         Estimate; SEX AND AGE - Total population\n",
       "3          HC02_VC03  Margin of Error; SEX AND AGE - Total population\n",
       "4          HC03_VC03          Percent; SEX AND AGE - Total population"
      ]
     },
     "execution_count": 140,
     "metadata": {},
     "output_type": "execute_result"
    }
   ],
   "source": [
    "variable_descriptions.head()\n"
   ]
  },
  {
   "cell_type": "code",
   "execution_count": 109,
   "metadata": {},
   "outputs": [],
   "source": [
    "f = []\n",
    "f_dot = []\n",
    "for i in range(len(police_departments)):\n",
    "    for filename in os.listdir(police_departments[i]):\n",
    "        if \".\" not in filename:\n",
    "            f.append(police_departments[i] + '/' + filename + '/')\n",
    "        else:\n",
    "            f_dot.append(filename)\n",
    "\n"
   ]
  },
  {
   "cell_type": "code",
   "execution_count": 134,
   "metadata": {},
   "outputs": [
    {
     "data": {
      "text/plain": [
       "['./data/Dept_11-00091/11-00091_ACS_data/',\n",
       " './data/Dept_11-00091/11-00091_Shapefiles/',\n",
       " './data/Dept_23-00089/23-00089_ACS_data/',\n",
       " './data/Dept_23-00089/23-00089_Shapefiles/',\n",
       " './data/Dept_24-00013/24-00013_ACS_data/',\n",
       " './data/Dept_24-00013/24-00013_Shapefiles/',\n",
       " './data/Dept_24-00098/24-00098_ACS_data/',\n",
       " './data/Dept_24-00098/24-00098_Shapefiles/',\n",
       " './data/Dept_35-00016/35-00016_ACS_data/',\n",
       " './data/Dept_35-00016/35-00016_Shapefiles/',\n",
       " './data/Dept_35-00103/35-00103_ACS_data/',\n",
       " './data/Dept_35-00103/35-00103_Shapefiles/',\n",
       " './data/Dept_37-00027/37-00027_ACS_data/',\n",
       " './data/Dept_37-00027/37-00027_Shapefiles/',\n",
       " './data/Dept_37-00049/37-00049_ACS_data/',\n",
       " './data/Dept_37-00049/37-00049_Shapefiles/',\n",
       " './data/Dept_49-00009/49-00009_ACS_data/',\n",
       " './data/Dept_49-00009/49-00009_Shapefiles/',\n",
       " './data/Dept_49-00033/49-00033_ACS_data/',\n",
       " './data/Dept_49-00033/49-00033_Shapefiles/',\n",
       " './data/Dept_49-00035/49-00035_ACS_data/',\n",
       " './data/Dept_49-00035/49-00035_Shapefiles/',\n",
       " './data/Dept_49-00081/49-00081_ACS_data/',\n",
       " './data/Dept_49-00081/49-00081_Shapefiles/']"
      ]
     },
     "execution_count": 134,
     "metadata": {},
     "output_type": "execute_result"
    }
   ],
   "source": [
    "f"
   ]
  },
  {
   "cell_type": "code",
   "execution_count": 161,
   "metadata": {},
   "outputs": [
    {
     "data": {
      "text/plain": [
       "['11-00091_Field-Interviews_2011-2015.csv',\n",
       " '23-00089_UOF-P.csv',\n",
       " '24-00013_UOF_2008-2017_prepped.csv',\n",
       " '24-00098_Vehicle-Stops-data.csv',\n",
       " '35-00016_UOF-OIS-P.csv',\n",
       " '35-00103_UOF-OIS-P_prepped.csv',\n",
       " '37-00027_UOF-P_2014-2016_prepped.csv',\n",
       " '37-00049_UOF-P_2016_prepped.csv',\n",
       " '49-00009_UOF.csv',\n",
       " '49-0009_UOF.csv',\n",
       " '49-00033_Arrests_2015.csv',\n",
       " '49-00035_Incidents_2016.csv',\n",
       " '49-00081_Incident-Reports_2012_to_May_2015.csv']"
      ]
     },
     "execution_count": 161,
     "metadata": {},
     "output_type": "execute_result"
    }
   ],
   "source": [
    "f_dot"
   ]
  },
  {
   "cell_type": "code",
   "execution_count": null,
   "metadata": {},
   "outputs": [],
   "source": [
    "#In f_dot we have all .csv files"
   ]
  },
  {
   "cell_type": "code",
   "execution_count": 136,
   "metadata": {},
   "outputs": [],
   "source": [
    "ACS = []\n",
    "Shapefiles = []\n",
    "for i in range(len(f)):\n",
    "    for filename in os.listdir(f[i]):\n",
    "        if \"ACS\"  in filename:\n",
    "            ACS.append(f[i] + '/' + filename + '/')\n",
    "        else:\n",
    "            Shapefiles.append(filename)"
   ]
  },
  {
   "cell_type": "code",
   "execution_count": 160,
   "metadata": {},
   "outputs": [],
   "source": [
    "ACS = pd.unique(ACS).tolist()"
   ]
  },
  {
   "cell_type": "code",
   "execution_count": 125,
   "metadata": {},
   "outputs": [],
   "source": [
    "Shapefiles\n",
    "Shapefiles = pd.unique(Shapefiles).tolist()"
   ]
  },
  {
   "cell_type": "code",
   "execution_count": 127,
   "metadata": {},
   "outputs": [
    {
     "data": {
      "text/plain": [
       "['boston_police_districts_f55.cst',\n",
       " 'boston_police_districts_f55.dbf',\n",
       " 'boston_police_districts_f55.prj',\n",
       " 'boston_police_districts_f55.shp',\n",
       " 'boston_police_districts_f55.shx',\n",
       " 'Indianapolis_Police_Zones.cpg',\n",
       " 'Indianapolis_Police_Zones.dbf',\n",
       " 'Indianapolis_Police_Zones.prj',\n",
       " 'Indianapolis_Police_Zones.shp',\n",
       " 'Indianapolis_Police_Zones.shx',\n",
       " 'Minneapolis_Police_Precincts.cpg',\n",
       " 'Minneapolis_Police_Precincts.dbf',\n",
       " 'Minneapolis_Police_Precincts.prj',\n",
       " 'Minneapolis_Police_Precincts.shp',\n",
       " 'Minneapolis_Police_Precincts.shx',\n",
       " 'Minneapolis_Police_Precincts.xml',\n",
       " 'StPaul_geo_export_6646246d-0f26-48c5-a924-f5a99bb51c47.dbf',\n",
       " 'StPaul_geo_export_6646246d-0f26-48c5-a924-f5a99bb51c47.prj',\n",
       " 'StPaul_geo_export_6646246d-0f26-48c5-a924-f5a99bb51c47.shp',\n",
       " 'StPaul_geo_export_6646246d-0f26-48c5-a924-f5a99bb51c47.shx',\n",
       " '35-00016_employment',\n",
       " 'OrlandoPoliceDistricts.dbf',\n",
       " 'OrlandoPoliceDistricts.lyr',\n",
       " 'OrlandoPoliceDistricts.pdf',\n",
       " 'OrlandoPoliceDistricts.prj',\n",
       " 'OrlandoPoliceDistricts.shp',\n",
       " 'OrlandoPoliceDistricts.shp.xml',\n",
       " 'OrlandoPoliceDistricts.shx',\n",
       " 'OrlandoPoliceDivisions.dbf',\n",
       " 'OrlandoPoliceDivisions.lyr',\n",
       " 'OrlandoPoliceDivisions.pdf',\n",
       " 'OrlandoPoliceDivisions.prj',\n",
       " 'OrlandoPoliceDivisions.shp',\n",
       " 'OrlandoPoliceDivisions.shp.xml',\n",
       " 'OrlandoPoliceDivisions.shx',\n",
       " 'OrlandoPoliceSectors.dbf',\n",
       " 'OrlandoPoliceSectors.lyr',\n",
       " 'OrlandoPoliceSectors.pdf',\n",
       " 'OrlandoPoliceSectors.prj',\n",
       " 'OrlandoPoliceSectors.shp',\n",
       " 'OrlandoPoliceSectors.shp.xml',\n",
       " 'OrlandoPoliceSectors.shx',\n",
       " 'CMPD_Police_Division_Offices.cpg',\n",
       " 'CMPD_Police_Division_Offices.dbf',\n",
       " 'CMPD_Police_Division_Offices.prj',\n",
       " 'CMPD_Police_Division_Offices.shp',\n",
       " 'CMPD_Police_Division_Offices.shx',\n",
       " 'APD_DIST.dbf',\n",
       " 'APD_DIST.sbn',\n",
       " 'APD_DIST.sbx',\n",
       " 'APD_DIST.shp',\n",
       " 'APD_DIST.shx',\n",
       " 'COD_DataDisclaimer.pdf',\n",
       " 'EPIC.dbf',\n",
       " 'EPIC.prj',\n",
       " 'EPIC.sbn',\n",
       " 'EPIC.sbx',\n",
       " 'EPIC.shp',\n",
       " 'EPIC.shp.xml',\n",
       " 'EPIC.shx',\n",
       " 'SPD_BEATS_WGS84.CPG',\n",
       " 'SPD_BEATS_WGS84.dbf',\n",
       " 'SPD_BEATS_WGS84.prj',\n",
       " 'SPD_BEATS_WGS84.sbn',\n",
       " 'SPD_BEATS_WGS84.sbx',\n",
       " 'SPD_BEATS_WGS84.shp',\n",
       " 'SPD_BEATS_WGS84.shp.xml',\n",
       " 'SPD_BEATS_WGS84.shx',\n",
       " 'lapd division.dbf',\n",
       " 'lapd division.prj',\n",
       " 'lapd division.shp',\n",
       " 'lapd division.shx',\n",
       " 'Oakland_geo_export_e0633584-8d50-406e-b9d6-e33545fdae16.dbf',\n",
       " 'Oakland_geo_export_e0633584-8d50-406e-b9d6-e33545fdae16.prj',\n",
       " 'Oakland_geo_export_e0633584-8d50-406e-b9d6-e33545fdae16.shp',\n",
       " 'Oakland_geo_export_e0633584-8d50-406e-b9d6-e33545fdae16.shx',\n",
       " 'SFPD_geo_export_8a7e3c3b-8d43-4359-bebe-b7ef6a6e21f3.dbf',\n",
       " 'SFPD_geo_export_8a7e3c3b-8d43-4359-bebe-b7ef6a6e21f3.prj',\n",
       " 'SFPD_geo_export_8a7e3c3b-8d43-4359-bebe-b7ef6a6e21f3.shp',\n",
       " 'SFPD_geo_export_8a7e3c3b-8d43-4359-bebe-b7ef6a6e21f3.shx']"
      ]
     },
     "execution_count": 127,
     "metadata": {},
     "output_type": "execute_result"
    }
   ],
   "source": [
    "Shapefiles"
   ]
  },
  {
   "cell_type": "code",
   "execution_count": 180,
   "metadata": {},
   "outputs": [
    {
     "data": {
      "text/plain": [
       "['cst',\n",
       " 'dbf',\n",
       " 'prj',\n",
       " 'shp',\n",
       " 'shx',\n",
       " 'cpg',\n",
       " 'xml',\n",
       " 'ent',\n",
       " 'lyr',\n",
       " 'pdf',\n",
       " 'sbn',\n",
       " 'sbx',\n",
       " 'CPG']"
      ]
     },
     "execution_count": 180,
     "metadata": {},
     "output_type": "execute_result"
    }
   ],
   "source": [
    "file_type = []\n",
    "for i in range(len(Shapefiles)):\n",
    "    file_type.append(Shapefiles[i][-3:])\n",
    "file_type\n",
    "file_type1 = pd.unique(file_type).tolist()\n",
    "file_type1\n",
    "# Types of files in Shapefiles"
   ]
  },
  {
   "cell_type": "code",
   "execution_count": 128,
   "metadata": {},
   "outputs": [],
   "source": [
    "Shapefiles_pd = []"
   ]
  },
  {
   "cell_type": "code",
   "execution_count": 129,
   "metadata": {},
   "outputs": [],
   "source": [
    "k = []\n",
    "for i in range(len(Shapefiles)):\n",
    "    if \"boston\" in Shapefiles[i]:\n",
    "        k.append(Shapefiles[i])\n",
    "Shapefiles_pd.append(k)\n",
    "k =[]\n",
    "for i in range(len(Shapefiles)):\n",
    "    if \"Indianapolis\" in Shapefiles[i]:\n",
    "        k.append(Shapefiles[i])\n",
    "Shapefiles_pd.append(k)\n",
    "k =[]       \n",
    "for i in range(len(Shapefiles)):\n",
    "    if \"Minneapolis\" in Shapefiles[i]:\n",
    "        k.append(Shapefiles[i])\n",
    "Shapefiles_pd.append(k)\n",
    "k =[] \n",
    "for i in range(len(Shapefiles)):\n",
    "    if \"StPaul\" in Shapefiles[i]:\n",
    "        k.append(Shapefiles[i])\n",
    "Shapefiles_pd.append(k)\n",
    "k =[] \n",
    "for i in range(len(Shapefiles)):\n",
    "    if \"Orlando\" in Shapefiles[i]:\n",
    "        k.append(Shapefiles[i])\n",
    "Shapefiles_pd.append(k)\n",
    "k =[] \n",
    "for i in range(len(Shapefiles)):\n",
    "    if \"CMPD\" in Shapefiles[i]:\n",
    "        k.append(Shapefiles[i])\n",
    "Shapefiles_pd.append(k)\n",
    "k =[] \n",
    "for i in range(len(Shapefiles)):\n",
    "    if \"APD\" in Shapefiles[i]:\n",
    "        k.append(Shapefiles[i])\n",
    "Shapefiles_pd.append(k)\n",
    "k =[] \n",
    "for i in range(len(Shapefiles)):\n",
    "    if \"COD\" in Shapefiles[i] or \"EPIC\" in Shapefiles[i]:\n",
    "        k.append(Shapefiles[i])\n",
    "Shapefiles_pd.append(k)\n",
    "k =[] \n",
    "for i in range(len(Shapefiles)):\n",
    "    if \"SPD\" in Shapefiles[i]:\n",
    "        k.append(Shapefiles[i])\n",
    "Shapefiles_pd.append(k)\n",
    "k =[] \n",
    "for i in range(len(Shapefiles)):\n",
    "    if \"lapd\" in Shapefiles[i]:\n",
    "        k.append(Shapefiles[i])\n",
    "Shapefiles_pd.append(k)\n",
    "k =[] \n",
    "for i in range(len(Shapefiles)):\n",
    "    if \"Oakland\" in Shapefiles[i]:\n",
    "        k.append(Shapefiles[i])\n",
    "Shapefiles_pd.append(k)\n",
    "k =[] \n",
    "for i in range(len(Shapefiles)):\n",
    "    if \"SFPD\" in Shapefiles[i]:\n",
    "        k.append(Shapefiles[i])\n",
    "Shapefiles_pd.append(k)\n",
    "k =[] "
   ]
  },
  {
   "cell_type": "code",
   "execution_count": null,
   "metadata": {},
   "outputs": [],
   "source": []
  },
  {
   "cell_type": "code",
   "execution_count": 131,
   "metadata": {},
   "outputs": [
    {
     "data": {
      "text/plain": [
       "['Indianapolis_Police_Zones.cpg',\n",
       " 'Indianapolis_Police_Zones.dbf',\n",
       " 'Indianapolis_Police_Zones.prj',\n",
       " 'Indianapolis_Police_Zones.shp',\n",
       " 'Indianapolis_Police_Zones.shx']"
      ]
     },
     "execution_count": 131,
     "metadata": {},
     "output_type": "execute_result"
    }
   ],
   "source": [
    "Shapefiles_pd[1]\n",
    "    "
   ]
  },
  {
   "cell_type": "code",
   "execution_count": 173,
   "metadata": {},
   "outputs": [],
   "source": [
    "ACS_files = []\n",
    "ACS_pd = []\n",
    "for i in range(len(ACS)):\n",
    "    for j in os.listdir(ACS[i]):\n",
    "        ACS_files.append(j)\n",
    "            #ACS_pd.append(pd.read_csv(ACS[i]+j))\n",
    "        "
   ]
  },
  {
   "cell_type": "code",
   "execution_count": 155,
   "metadata": {},
   "outputs": [
    {
     "data": {
      "text/plain": [
       "85"
      ]
     },
     "execution_count": 155,
     "metadata": {},
     "output_type": "execute_result"
    }
   ],
   "source": [
    "ACS_files\n",
    "len(ACS_files)\n",
    "len(ACS)"
   ]
  },
  {
   "cell_type": "code",
   "execution_count": 179,
   "metadata": {},
   "outputs": [
    {
     "data": {
      "text/plain": [
       "['csv', 'txt']"
      ]
     },
     "execution_count": 179,
     "metadata": {},
     "output_type": "execute_result"
    }
   ],
   "source": [
    "len(ACS_files)\n",
    "ACS_files\n",
    "file_type = []\n",
    "for i in range(len(ACS_files)):\n",
    "    file_type.append(ACS_files[i][-3:])\n",
    "file_type\n",
    "file_type1 = pd.unique(file_type).tolist()\n",
    "file_type1\n",
    "# Types of files in ACS_files"
   ]
  },
  {
   "cell_type": "code",
   "execution_count": null,
   "metadata": {},
   "outputs": [],
   "source": []
  },
  {
   "cell_type": "code",
   "execution_count": 184,
   "metadata": {},
   "outputs": [
    {
     "data": {
      "text/plain": [
       "Index(['GEO.id', 'GEO.id2', 'GEO.display-label', 'HC01_EST_VC02',\n",
       "       'HC01_MOE_VC02', 'HC02_EST_VC02', 'HC02_MOE_VC02', 'HC03_EST_VC02',\n",
       "       'HC03_MOE_VC02', 'HC04_EST_VC02',\n",
       "       ...\n",
       "       'HC02_EST_VC85', 'HC02_MOE_VC85', 'HC03_EST_VC85', 'HC03_MOE_VC85',\n",
       "       'HC04_EST_VC85', 'HC04_MOE_VC85', 'HC05_EST_VC85', 'HC05_MOE_VC85',\n",
       "       'HC06_EST_VC85', 'HC06_MOE_VC85'],\n",
       "      dtype='object', length=771)"
      ]
     },
     "execution_count": 184,
     "metadata": {},
     "output_type": "execute_result"
    }
   ],
   "source": [
    "pd.read_csv(ACS[0] + ACS_files[0]).head()\n",
    "pd.read_csv(ACS[0] + ACS_files[1]).columns"
   ]
  },
  {
   "cell_type": "code",
   "execution_count": null,
   "metadata": {},
   "outputs": [],
   "source": []
  },
  {
   "cell_type": "code",
   "execution_count": null,
   "metadata": {},
   "outputs": [],
   "source": []
  }
 ],
 "metadata": {
  "kernelspec": {
   "display_name": "Python 3",
   "language": "python",
   "name": "python3"
  },
  "language_info": {
   "codemirror_mode": {
    "name": "ipython",
    "version": 3
   },
   "file_extension": ".py",
   "mimetype": "text/x-python",
   "name": "python",
   "nbconvert_exporter": "python",
   "pygments_lexer": "ipython3",
   "version": "3.6.5"
  }
 },
 "nbformat": 4,
 "nbformat_minor": 2
}
